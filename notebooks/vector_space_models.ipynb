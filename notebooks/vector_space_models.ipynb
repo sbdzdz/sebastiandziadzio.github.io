{
 "cells": [
  {
   "cell_type": "code",
   "execution_count": 43,
   "metadata": {
    "collapsed": true
   },
   "outputs": [],
   "source": [
    "documents_long = [\n",
    "    \"the reticulated python is a species of python found in southeast asia and the longest snake in the world\",\n",
    "    \"the burmese python is a large snake native to tropical southeast asia\",\n",
    "    \"python is an interpreted high level programming language for general purpose programming\",\n",
    "    \"the green anaconda also known as the common anaconda is a non venomous snake species found in south america\",\n",
    "    \"the yellow anaconda is a snake species endemic to south america\",\n",
    "    \"anaconda is an open source distribution of the python and r programming languages for data science applications\"\n",
    "]\n",
    "\n",
    "first = 'egg bacon sausage and spam'\n",
    "second = 'spam bacon homar sausage and spam'\n",
    "third = 'spam egg spam and spam'\n",
    "\n",
    "documents = [first, second, third]"
   ]
  },
  {
   "cell_type": "markdown",
   "metadata": {},
   "source": [
    "## Binary sets by hand"
   ]
  },
  {
   "cell_type": "code",
   "execution_count": 46,
   "metadata": {
    "collapsed": false
   },
   "outputs": [
    {
     "name": "stdout",
     "output_type": "stream",
     "text": [
      "['and', 'bacon', 'egg', 'homar', 'sausage', 'spam']\n",
      "[[1, 1, 1, 0, 1, 1], [1, 1, 0, 1, 1, 1], [1, 0, 1, 0, 0, 1]]\n"
     ]
    }
   ],
   "source": [
    "def build_vocabulary(documents):\n",
    "    vocabulary = set()\n",
    "    for document in documents:\n",
    "        vocabulary.update(document.split())\n",
    "    return sorted(vocabulary)\n",
    "\n",
    "def build_matrix(documents, vocabulary):\n",
    "    matrix = []\n",
    "    for document in documents:\n",
    "        matrix.append([int(term in document) for term in vocabulary])\n",
    "    return matrix\n",
    "\n",
    "vocabulary = build_vocabulary(documents)\n",
    "term_document_matrix = build_matrix(documents, vocabulary)\n",
    "\n",
    "print(vocabulary)\n",
    "print(term_document_matrix)"
   ]
  },
  {
   "cell_type": "code",
   "execution_count": 49,
   "metadata": {
    "collapsed": false
   },
   "outputs": [
    {
     "name": "stdout",
     "output_type": "stream",
     "text": [
      "<class 'scipy.sparse.csr.csr_matrix'>\n",
      "['and', 'bacon', 'egg', 'homar', 'sausage', 'spam']\n"
     ]
    }
   ],
   "source": [
    "from sklearn.feature_extraction.text import CountVectorizer\n",
    "\n",
    "documents = [first, second, third]\n",
    "vectorizer = CountVectorizer(binary=True)\n",
    "term_document_matrix = vectorizer.fit_transform(documents)\n",
    "\n",
    "print(type(term_document_matrix))\n",
    "print(vectorizer.get_feature_names())"
   ]
  },
  {
   "cell_type": "code",
   "execution_count": 48,
   "metadata": {
    "collapsed": false
   },
   "outputs": [
    {
     "name": "stdout",
     "output_type": "stream",
     "text": [
      "[[1 1 1 0 1 1]\n",
      " [1 1 0 1 1 1]\n",
      " [1 0 1 0 0 1]]\n"
     ]
    }
   ],
   "source": [
    "print(term_document_matrix.toarray())"
   ]
  },
  {
   "cell_type": "markdown",
   "metadata": {},
   "source": [
    "## tf-idf by hand"
   ]
  },
  {
   "cell_type": "code",
   "execution_count": 4,
   "metadata": {
    "collapsed": false
   },
   "outputs": [
    {
     "name": "stdout",
     "output_type": "stream",
     "text": [
      "{'reticulated': 0.05, 'world': 0.05, 'is': 0.05, 'and': 0.05, 'species': 0.05, 'python': 0.11, 'snake': 0.05, 'asia': 0.05, 'southeast': 0.05, 'a': 0.05, 'the': 0.16, 'longest': 0.05, 'found': 0.05, 'in': 0.11, 'of': 0.05}\n"
     ]
    }
   ],
   "source": [
    "from collections import Counter\n",
    "\n",
    "count = Counter(documents[0].split())\n",
    "terms = count.keys() \n",
    "total = sum(count.values())\n",
    "tf = {t: round(count[t]/total, 2) for t in terms}\n",
    "print(tf)"
   ]
  },
  {
   "cell_type": "code",
   "execution_count": 5,
   "metadata": {
    "collapsed": false
   },
   "outputs": [
    {
     "name": "stdout",
     "output_type": "stream",
     "text": [
      "{'reticulated': 0.09, 'world': 0.09, 'is': 0.0, 'and': 0.055, 'species': 0.035, 'python': 0.045, 'snake': 0.02, 'asia': 0.055, 'southeast': 0.055, 'a': 0.02, 'the': 0.029, 'longest': 0.09, 'found': 0.055, 'in': 0.121, 'of': 0.055}\n"
     ]
    }
   ],
   "source": [
    "from math import log \n",
    "\n",
    "idf = {t: log(len(documents)/sum(t in d.split() for d in documents)) for t in terms}\n",
    "tf_idf = {t: round(tf[t]*idf[t], 3) for t in terms}\n",
    "print(tf_idf)"
   ]
  },
  {
   "cell_type": "code",
   "execution_count": 2,
   "metadata": {
    "collapsed": false
   },
   "outputs": [
    {
     "ename": "SyntaxError",
     "evalue": "invalid character in identifier (<ipython-input-2-c89f763203d8>, line 1)",
     "output_type": "error",
     "traceback": [
      "\u001b[0;36m  File \u001b[0;32m\"<ipython-input-2-c89f763203d8>\"\u001b[0;36m, line \u001b[0;32m1\u001b[0m\n\u001b[0;31m    import pandas as _🐼_\u001b[0m\n\u001b[0m                       ^\u001b[0m\n\u001b[0;31mSyntaxError\u001b[0m\u001b[0;31m:\u001b[0m invalid character in identifier\n"
     ]
    }
   ],
   "source": [
    "import pandas as 🐼\n",
    "\n",
    "🐼.dataFrame(['what', 'the', 'hell'])"
   ]
  },
  {
   "cell_type": "code",
   "execution_count": null,
   "metadata": {
    "collapsed": true
   },
   "outputs": [],
   "source": []
  }
 ],
 "metadata": {
  "kernelspec": {
   "display_name": "Python 3",
   "language": "python",
   "name": "python3"
  },
  "language_info": {
   "codemirror_mode": {
    "name": "ipython",
    "version": 3
   },
   "file_extension": ".py",
   "mimetype": "text/x-python",
   "name": "python",
   "nbconvert_exporter": "python",
   "pygments_lexer": "ipython3",
   "version": "3.5.2"
  }
 },
 "nbformat": 4,
 "nbformat_minor": 1
}
